{
 "cells": [
  {
   "cell_type": "code",
   "execution_count": 1,
   "id": "39572937-ddd4-474f-9457-52d4fe7446e3",
   "metadata": {},
   "outputs": [
    {
     "name": "stderr",
     "output_type": "stream",
     "text": [
      "/home/ljaffeux/.local/lib/python3.10/site-packages/matplotlib/projections/__init__.py:63: UserWarning: Unable to import Axes3D. This may be due to multiple versions of Matplotlib being installed (e.g. as a system package and as a pip package). As a result, the 3D projection is not available.\n",
      "  warnings.warn(\"Unable to import Axes3D. This may be due to multiple versions of \"\n",
      "2025-06-04 09:30:02.094614: E external/local_xla/xla/stream_executor/cuda/cuda_fft.cc:477] Unable to register cuFFT factory: Attempting to register factory for plugin cuFFT when one has already been registered\n",
      "WARNING: All log messages before absl::InitializeLog() is called are written to STDERR\n",
      "E0000 00:00:1749022202.106171  613178 cuda_dnn.cc:8310] Unable to register cuDNN factory: Attempting to register factory for plugin cuDNN when one has already been registered\n",
      "E0000 00:00:1749022202.109716  613178 cuda_blas.cc:1418] Unable to register cuBLAS factory: Attempting to register factory for plugin cuBLAS when one has already been registered\n",
      "2025-06-04 09:30:02.123251: I tensorflow/core/platform/cpu_feature_guard.cc:210] This TensorFlow binary is optimized to use available CPU instructions in performance-critical operations.\n",
      "To enable the following instructions: AVX2 FMA, in other operations, rebuild TensorFlow with the appropriate compiler flags.\n"
     ]
    }
   ],
   "source": [
    "import sys\n",
    "import os\n",
    "from utils import *"
   ]
  },
  {
   "cell_type": "code",
   "execution_count": 2,
   "id": "ba081144-dbc8-47e9-becb-f60501824d64",
   "metadata": {},
   "outputs": [
    {
     "ename": "FileNotFoundError",
     "evalue": "[Errno 2] No such file or directory: '../../Data/Raw'",
     "output_type": "error",
     "traceback": [
      "\u001b[0;31m---------------------------------------------------------------------------\u001b[0m",
      "\u001b[0;31mFileNotFoundError\u001b[0m                         Traceback (most recent call last)",
      "\u001b[0;32m/tmp/ipykernel_613178/2970139065.py\u001b[0m in \u001b[0;36m<module>\u001b[0;34m\u001b[0m\n\u001b[1;32m      7\u001b[0m     \u001b[0mINS\u001b[0m \u001b[0;34m=\u001b[0m \u001b[0;34m''\u001b[0m\u001b[0;34m\u001b[0m\u001b[0;34m\u001b[0m\u001b[0m\n\u001b[1;32m      8\u001b[0m \u001b[0;31m# List all folders inside `data_dir` that contain the campaign name\u001b[0m\u001b[0;34m\u001b[0m\u001b[0;34m\u001b[0m\u001b[0m\n\u001b[0;32m----> 9\u001b[0;31m matching_folders = [f for f in os.listdir(data_dir)\n\u001b[0m\u001b[1;32m     10\u001b[0m                     if os.path.isdir(os.path.join(data_dir, f)) and campaign in f]\n\u001b[1;32m     11\u001b[0m \u001b[0;34m\u001b[0m\u001b[0m\n",
      "\u001b[0;31mFileNotFoundError\u001b[0m: [Errno 2] No such file or directory: '../../Data/Raw'"
     ]
    }
   ],
   "source": [
    "import re\n",
    "campaign = 'MAESTRO'\n",
    "INS = 'IMU2'  # Can be None\n",
    "data_dir = '../../Data/Raw'  # Path to the base data directory\n",
    "\n",
    "if not campaign=='MAESTRO':\n",
    "    INS = ''\n",
    "# List all folders inside `data_dir` that contain the campaign name\n",
    "matching_folders = [f for f in os.listdir(data_dir)\n",
    "                    if os.path.isdir(os.path.join(data_dir, f)) and campaign in f]\n",
    "\n",
    "# Filter further by INS if it's set and multiple matches exist\n",
    "if INS and len(matching_folders) > 1:\n",
    "    matching_folders = [f for f in matching_folders if INS in f]\n",
    "\n",
    "# Get the final folder (if any)\n",
    "if matching_folders:\n",
    "    selected_folder = os.path.join(data_dir, matching_folders[0])\n",
    "    print(f\"Selected folder: {selected_folder}\")\n",
    "else:\n",
    "    print(\"No matching folder found.\")\n",
    "\n",
    "preseg_dir = '../../Data/Pre_Segmentation'\n",
    "# List all folders inside `preseg_dir` that contain the campaign name\n",
    "matching_folders = [f for f in os.listdir(preseg_dir)\n",
    "                    if os.path.isdir(os.path.join(preseg_dir, f)) and campaign in f]\n",
    "if matching_folders:\n",
    "    selected_segmentation = os.path.join(preseg_dir, matching_folders[0])\n",
    "    print(f\"Selected segmentation: {selected_segmentation}\")\n",
    "    presegmentation = True\n",
    "else:\n",
    "    print(\"No pre segmentation found. It will be done during the processing.\")\n",
    "    presegmentation = False\n",
    "    # Do pre-segmentation instead. \n",
    "if not presegmentation:\n",
    "    print('Assuming simple conditions ascents, descents, and turns')\n",
    "    # Minimum segment length in seconds\n",
    "\n",
    "leng_min = 270\n",
    "mean_w= []\n",
    "mean_alt = []\n",
    "for f in os.listdir(selected_folder):\n",
    "    print(f)\n",
    "    full_path = os.path.join(selected_folder, f)\n",
    "    if not f.endswith('.nc'):\n",
    "        print(f'Skipping {f}')\n",
    "        continue\n",
    "    tab_segments = []\n",
    "    # Extract flight number\n",
    "    match = re.search(r'as(\\d+)', f)\n",
    "    if match:\n",
    "        number = int(match.group(1))\n",
    "        \n",
    "    df_25=load_raw_data(full_path)\n",
    "\n",
    "    if not presegmentation:\n",
    "\n",
    "        # filter take off and landing\n",
    "        df_25 = df_25[df_25['ALTI_INS']>(df_25['ALTI_INS'].min()+10)]\n",
    "        # filter ascents and descents\n",
    "        df_25['ALTITUDE'] = df_25['ALTI_INS'].rolling(window=25, center=True).mean()\n",
    "        df_25 = df_25[df_25['ALTITUDE'].diff(periods=5*25).abs() < 10]\n",
    "        # filter turns\n",
    "        df_25 = df_25[df_25['ROLL'].abs() <2]\n",
    "        df_25 = df_25[df_25['HEADING'].diff(periods=5*25).abs() <2]\n",
    "        # Segment based on time gaps (assuming data is at ~25 Hz)\n",
    "        dt = df_25.index.to_series().diff().dt.total_seconds().fillna(0)\n",
    "        gap_idx = dt > 5  # If gap between samples is > 5 sec, we assume a break\n",
    "\n",
    "        segment_ids = gap_idx.cumsum()\n",
    "        grouped = df_25.groupby(segment_ids)\n",
    "\n",
    "        for i, group in grouped:\n",
    "            duration = (group.index[-1] - group.index[0]).total_seconds()\n",
    "            if duration >= leng_min:\n",
    "                tab_segments.append(group)\n",
    "    else:\n",
    "        # Find the matching yaml file \n",
    "        matching_yaml = [g for g in os.listdir(selected_segmentation) if str(number) in g]\n",
    "        yaml_data = read_yaml(os.path.join(selected_segmentation,matching_yaml[0]))\n",
    "        for seg in yaml_data['segments']:\n",
    "            if seg['kind'] == 'leg':\n",
    "                if (seg['end'] - seg['start']).total_seconds() >= leng_min:\n",
    "                    tab_segments.append(df_25.loc[seg['start']:seg['end']].copy())\n",
    "\n",
    "    subsegments = []\n",
    "    for n,subsegment in enumerate(tab_segments):\n",
    "        # Compute average wind values\n",
    "        name_seg = 'default'\n",
    "        score = 100\n",
    "        subsegments.append({\n",
    "                            'name': name_seg + '_' + str(n + 1),\n",
    "                            'start': subsegment.index[0],\n",
    "                            'end': subsegment.index[-1],\n",
    "                            'score': float(score),\n",
    "                        })\n",
    "    os.makedirs('../Data/Segmentation_default/'+campaign +'/'+ INS, exist_ok = True)\n",
    "    write_yaml_subsegments(number, subsegments, '../Data/Segmentation_default/'+campaign +'/'+ INS)"
   ]
  },
  {
   "cell_type": "code",
   "execution_count": null,
   "id": "4869c615-306c-4f9d-ae6d-214e95ad38b6",
   "metadata": {},
   "outputs": [],
   "source": []
  }
 ],
 "metadata": {
  "kernelspec": {
   "display_name": "Python 3 (ipykernel)",
   "language": "python",
   "name": "python3"
  },
  "language_info": {
   "codemirror_mode": {
    "name": "ipython",
    "version": 3
   },
   "file_extension": ".py",
   "mimetype": "text/x-python",
   "name": "python",
   "nbconvert_exporter": "python",
   "pygments_lexer": "ipython3",
   "version": "3.10.12"
  }
 },
 "nbformat": 4,
 "nbformat_minor": 5
}
