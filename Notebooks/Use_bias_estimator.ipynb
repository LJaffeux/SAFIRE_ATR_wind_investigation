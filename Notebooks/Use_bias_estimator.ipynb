{
 "cells": [
  {
   "cell_type": "code",
   "execution_count": 1,
   "id": "8bfd5935-0b37-47d4-90dd-a170d78e3e61",
   "metadata": {
    "editable": true,
    "slideshow": {
     "slide_type": ""
    },
    "tags": []
   },
   "outputs": [
    {
     "name": "stderr",
     "output_type": "stream",
     "text": [
      "/home/ljaffeux/.local/lib/python3.10/site-packages/matplotlib/projections/__init__.py:63: UserWarning: Unable to import Axes3D. This may be due to multiple versions of Matplotlib being installed (e.g. as a system package and as a pip package). As a result, the 3D projection is not available.\n",
      "  warnings.warn(\"Unable to import Axes3D. This may be due to multiple versions of \"\n",
      "2025-06-03 15:31:05.180243: E external/local_xla/xla/stream_executor/cuda/cuda_fft.cc:477] Unable to register cuFFT factory: Attempting to register factory for plugin cuFFT when one has already been registered\n",
      "WARNING: All log messages before absl::InitializeLog() is called are written to STDERR\n",
      "E0000 00:00:1748957465.305633  123013 cuda_dnn.cc:8310] Unable to register cuDNN factory: Attempting to register factory for plugin cuDNN when one has already been registered\n",
      "E0000 00:00:1748957465.341915  123013 cuda_blas.cc:1418] Unable to register cuBLAS factory: Attempting to register factory for plugin cuBLAS when one has already been registered\n",
      "2025-06-03 15:31:05.592058: I tensorflow/core/platform/cpu_feature_guard.cc:210] This TensorFlow binary is optimized to use available CPU instructions in performance-critical operations.\n",
      "To enable the following instructions: AVX2 FMA, in other operations, rebuild TensorFlow with the appropriate compiler flags.\n"
     ]
    }
   ],
   "source": [
    "import sys\n",
    "import os\n",
    "from utils import *"
   ]
  },
  {
   "cell_type": "markdown",
   "id": "ac4cb54e-780e-461f-a145-babc77827a38",
   "metadata": {
    "editable": true,
    "slideshow": {
     "slide_type": ""
    },
    "tags": []
   },
   "source": [
    "# Load a version of the bias regressor and use it on some dataset"
   ]
  },
  {
   "cell_type": "markdown",
   "id": "50840d3b-e85b-41f9-a6fe-eeb8f0acad3d",
   "metadata": {},
   "source": [
    "## Scan for versions of BR for the user to choose from "
   ]
  },
  {
   "cell_type": "code",
   "execution_count": 2,
   "id": "049af8bc-d26e-42bc-b099-2c0be2bdc9aa",
   "metadata": {
    "editable": true,
    "slideshow": {
     "slide_type": ""
    },
    "tags": []
   },
   "outputs": [
    {
     "name": "stdout",
     "output_type": "stream",
     "text": [
      "Scanning directory: Bias_regression\n",
      "Found version 'LIAISE_bias' in 'Bias_regression/tuner_results_LIAISE_bias':\n",
      "    LSTM_CNN: ✅\n",
      "    Attention: ❌\n",
      "    Custom: ❌\n"
     ]
    }
   ],
   "source": [
    "data_root='../Data'\n",
    "default_dir = 'Bias_regression'\n",
    "scan_tuner_versions(default_dir)"
   ]
  },
  {
   "cell_type": "markdown",
   "id": "b3f07c65-cedb-49f5-a4fb-3f4ce353a9f9",
   "metadata": {},
   "source": [
    "## User defines version and model to use"
   ]
  },
  {
   "cell_type": "code",
   "execution_count": 4,
   "id": "64b30824-d826-4218-9921-d127a8fba0cf",
   "metadata": {},
   "outputs": [],
   "source": [
    "version = 'LIAISE_bias'\n",
    "model = 'LSTM_CNN'# 'LSTM_CNN' or 'Attention'"
   ]
  },
  {
   "cell_type": "markdown",
   "id": "500d6b52-1a44-4d93-aa2f-50b7919aea48",
   "metadata": {},
   "source": [
    "## Show contextual data within the folder"
   ]
  },
  {
   "cell_type": "code",
   "execution_count": 5,
   "id": "ce58469c-908a-4782-9a76-2711d413a9f9",
   "metadata": {},
   "outputs": [
    {
     "name": "stdout",
     "output_type": "stream",
     "text": [
      "\n",
      "📄 Configuration loaded from Bias_regression/LIAISE_bias/config.txt:\n",
      "\n",
      "Key          | Value\n",
      "-------------|-----------------------------------------\n",
      "timesteps    | 120\n",
      "resampling   | '5s'\n",
      "data         | '['LIAISE']'\n",
      "INS          | '['IMU1']'\n",
      "features     | ['AOA_RAD', 'AOS_RAD', 'PITCH', 'ROLL', 'GROUND_SPEED', 'VERTICAL_SPEED', 'TAS']\n",
      "version      | LIAISE_bias\n",
      "observations | \n",
      "---------------------------------------------------------------------------------\n",
      "Loading LSTM_CNN model\n"
     ]
    },
    {
     "name": "stderr",
     "output_type": "stream",
     "text": [
      "2025-06-03 16:16:17.051353: E external/local_xla/xla/stream_executor/cuda/cuda_driver.cc:152] failed call to cuInit: INTERNAL: CUDA error: Failed call to cuInit: UNKNOWN ERROR (303)\n"
     ]
    },
    {
     "data": {
      "text/html": [
       "<pre style=\"white-space:pre;overflow-x:auto;line-height:normal;font-family:Menlo,'DejaVu Sans Mono',consolas,'Courier New',monospace\"><span style=\"font-weight: bold\">Model: \"sequential\"</span>\n",
       "</pre>\n"
      ],
      "text/plain": [
       "\u001b[1mModel: \"sequential\"\u001b[0m\n"
      ]
     },
     "metadata": {},
     "output_type": "display_data"
    },
    {
     "data": {
      "text/html": [
       "<pre style=\"white-space:pre;overflow-x:auto;line-height:normal;font-family:Menlo,'DejaVu Sans Mono',consolas,'Courier New',monospace\">┏━━━━━━━━━━━━━━━━━━━━━━━━━━━━━━━━━┳━━━━━━━━━━━━━━━━━━━━━━━━┳━━━━━━━━━━━━━━━┓\n",
       "┃<span style=\"font-weight: bold\"> Layer (type)                    </span>┃<span style=\"font-weight: bold\"> Output Shape           </span>┃<span style=\"font-weight: bold\">       Param # </span>┃\n",
       "┡━━━━━━━━━━━━━━━━━━━━━━━━━━━━━━━━━╇━━━━━━━━━━━━━━━━━━━━━━━━╇━━━━━━━━━━━━━━━┩\n",
       "│ lstm (<span style=\"color: #0087ff; text-decoration-color: #0087ff\">LSTM</span>)                     │ (<span style=\"color: #00af00; text-decoration-color: #00af00\">16</span>, <span style=\"color: #00af00; text-decoration-color: #00af00\">128</span>)              │        <span style=\"color: #00af00; text-decoration-color: #00af00\">69,632</span> │\n",
       "├─────────────────────────────────┼────────────────────────┼───────────────┤\n",
       "│ dropout (<span style=\"color: #0087ff; text-decoration-color: #0087ff\">Dropout</span>)               │ (<span style=\"color: #00af00; text-decoration-color: #00af00\">16</span>, <span style=\"color: #00af00; text-decoration-color: #00af00\">128</span>)              │             <span style=\"color: #00af00; text-decoration-color: #00af00\">0</span> │\n",
       "├─────────────────────────────────┼────────────────────────┼───────────────┤\n",
       "│ dense (<span style=\"color: #0087ff; text-decoration-color: #0087ff\">Dense</span>)                   │ (<span style=\"color: #00af00; text-decoration-color: #00af00\">16</span>, <span style=\"color: #00af00; text-decoration-color: #00af00\">32</span>)               │         <span style=\"color: #00af00; text-decoration-color: #00af00\">4,128</span> │\n",
       "├─────────────────────────────────┼────────────────────────┼───────────────┤\n",
       "│ dense_1 (<span style=\"color: #0087ff; text-decoration-color: #0087ff\">Dense</span>)                 │ (<span style=\"color: #00af00; text-decoration-color: #00af00\">16</span>, <span style=\"color: #00af00; text-decoration-color: #00af00\">2</span>)                │            <span style=\"color: #00af00; text-decoration-color: #00af00\">66</span> │\n",
       "└─────────────────────────────────┴────────────────────────┴───────────────┘\n",
       "</pre>\n"
      ],
      "text/plain": [
       "┏━━━━━━━━━━━━━━━━━━━━━━━━━━━━━━━━━┳━━━━━━━━━━━━━━━━━━━━━━━━┳━━━━━━━━━━━━━━━┓\n",
       "┃\u001b[1m \u001b[0m\u001b[1mLayer (type)                   \u001b[0m\u001b[1m \u001b[0m┃\u001b[1m \u001b[0m\u001b[1mOutput Shape          \u001b[0m\u001b[1m \u001b[0m┃\u001b[1m \u001b[0m\u001b[1m      Param #\u001b[0m\u001b[1m \u001b[0m┃\n",
       "┡━━━━━━━━━━━━━━━━━━━━━━━━━━━━━━━━━╇━━━━━━━━━━━━━━━━━━━━━━━━╇━━━━━━━━━━━━━━━┩\n",
       "│ lstm (\u001b[38;5;33mLSTM\u001b[0m)                     │ (\u001b[38;5;34m16\u001b[0m, \u001b[38;5;34m128\u001b[0m)              │        \u001b[38;5;34m69,632\u001b[0m │\n",
       "├─────────────────────────────────┼────────────────────────┼───────────────┤\n",
       "│ dropout (\u001b[38;5;33mDropout\u001b[0m)               │ (\u001b[38;5;34m16\u001b[0m, \u001b[38;5;34m128\u001b[0m)              │             \u001b[38;5;34m0\u001b[0m │\n",
       "├─────────────────────────────────┼────────────────────────┼───────────────┤\n",
       "│ dense (\u001b[38;5;33mDense\u001b[0m)                   │ (\u001b[38;5;34m16\u001b[0m, \u001b[38;5;34m32\u001b[0m)               │         \u001b[38;5;34m4,128\u001b[0m │\n",
       "├─────────────────────────────────┼────────────────────────┼───────────────┤\n",
       "│ dense_1 (\u001b[38;5;33mDense\u001b[0m)                 │ (\u001b[38;5;34m16\u001b[0m, \u001b[38;5;34m2\u001b[0m)                │            \u001b[38;5;34m66\u001b[0m │\n",
       "└─────────────────────────────────┴────────────────────────┴───────────────┘\n"
      ]
     },
     "metadata": {},
     "output_type": "display_data"
    },
    {
     "data": {
      "text/html": [
       "<pre style=\"white-space:pre;overflow-x:auto;line-height:normal;font-family:Menlo,'DejaVu Sans Mono',consolas,'Courier New',monospace\"><span style=\"font-weight: bold\"> Total params: </span><span style=\"color: #00af00; text-decoration-color: #00af00\">221,480</span> (865.16 KB)\n",
       "</pre>\n"
      ],
      "text/plain": [
       "\u001b[1m Total params: \u001b[0m\u001b[38;5;34m221,480\u001b[0m (865.16 KB)\n"
      ]
     },
     "metadata": {},
     "output_type": "display_data"
    },
    {
     "data": {
      "text/html": [
       "<pre style=\"white-space:pre;overflow-x:auto;line-height:normal;font-family:Menlo,'DejaVu Sans Mono',consolas,'Courier New',monospace\"><span style=\"font-weight: bold\"> Trainable params: </span><span style=\"color: #00af00; text-decoration-color: #00af00\">73,826</span> (288.38 KB)\n",
       "</pre>\n"
      ],
      "text/plain": [
       "\u001b[1m Trainable params: \u001b[0m\u001b[38;5;34m73,826\u001b[0m (288.38 KB)\n"
      ]
     },
     "metadata": {},
     "output_type": "display_data"
    },
    {
     "data": {
      "text/html": [
       "<pre style=\"white-space:pre;overflow-x:auto;line-height:normal;font-family:Menlo,'DejaVu Sans Mono',consolas,'Courier New',monospace\"><span style=\"font-weight: bold\"> Non-trainable params: </span><span style=\"color: #00af00; text-decoration-color: #00af00\">0</span> (0.00 B)\n",
       "</pre>\n"
      ],
      "text/plain": [
       "\u001b[1m Non-trainable params: \u001b[0m\u001b[38;5;34m0\u001b[0m (0.00 B)\n"
      ]
     },
     "metadata": {},
     "output_type": "display_data"
    },
    {
     "data": {
      "text/html": [
       "<pre style=\"white-space:pre;overflow-x:auto;line-height:normal;font-family:Menlo,'DejaVu Sans Mono',consolas,'Courier New',monospace\"><span style=\"font-weight: bold\"> Optimizer params: </span><span style=\"color: #00af00; text-decoration-color: #00af00\">147,654</span> (576.78 KB)\n",
       "</pre>\n"
      ],
      "text/plain": [
       "\u001b[1m Optimizer params: \u001b[0m\u001b[38;5;34m147,654\u001b[0m (576.78 KB)\n"
      ]
     },
     "metadata": {},
     "output_type": "display_data"
    },
    {
     "name": "stdout",
     "output_type": "stream",
     "text": [
      "🖼️ Displaying training plot: Bias_regression/LIAISE_bias/Training_LSTM_CNN.png\n"
     ]
    },
    {
     "data": {
      "image/png": "[encoded data removed]",
      "text/plain": [
       "<Figure size 576x432 with 1 Axes>"
      ]
     },
     "metadata": {
      "needs_background": "light"
     },
     "output_type": "display_data"
    }
   ],
   "source": [
    "import matplotlib.image as mpimg\n",
    "# Reading config file\n",
    "config_path = f'{default_dir}/{version}/config.txt'\n",
    "if os.path.exists(config_path):\n",
    "    print(f\"\\n📄 Configuration loaded from {config_path}:\\n\")\n",
    "\n",
    "    config_entries = []\n",
    "    with open(config_path, \"r\") as f:\n",
    "        for line in f:\n",
    "            line = line.strip()\n",
    "            if \"=\" in line:\n",
    "                key, value = map(str.strip, line.split(\"=\", 1))\n",
    "                config_entries.append((key, value))\n",
    "\n",
    "    # Calculate the max width of the key column for alignment\n",
    "    max_key_len = max(len(k) for k, _ in config_entries)\n",
    "\n",
    "    # Print header\n",
    "    print(f\"{'Key'.ljust(max_key_len)} | Value\")\n",
    "    print(f\"{'-' * max_key_len}-|-{'-' * 40}\")\n",
    "\n",
    "    # Print key-value pairs\n",
    "    for key, value in config_entries:\n",
    "        print(f\"{key.ljust(max_key_len)} | {value}\")\n",
    "\n",
    "# Store relevant infos for applying the model\n",
    "timesteps = int(config_entries[0][1])\n",
    "resampling = config_entries[1][1][1:-1]\n",
    "features = ast.literal_eval((config_entries[4][1]))\n",
    "\n",
    "print('---------------------------------------------------------------------------------')\n",
    "print(f'Loading {model} model')\n",
    "\n",
    "best_model = keras.saving.load_model(\n",
    "    f\"{default_dir}/{version}/{model}.keras\"\n",
    ")\n",
    "# Custom loading model\n",
    "scaler = joblib.load(f'{default_dir}/{version}/scaler_train.pkl')\n",
    "scalery = joblib.load(f'{default_dir}/{version}/scaler_target.pkl')\n",
    "\n",
    "best_model.summary()\n",
    "image_path = f'{default_dir}/{version}/Training_{model}.png'\n",
    "\n",
    "\n",
    "print(f\"🖼️ Displaying training plot: {image_path}\")\n",
    "img = mpimg.imread(image_path)\n",
    "plt.figure(figsize=(8, 6))\n",
    "plt.imshow(img)\n",
    "plt.axis('off')  # Hide axes\n",
    "plt.show()\n"
   ]
  },
  {
   "cell_type": "code",
   "execution_count": 23,
   "id": "33d920f7-4f9a-49e2-8096-916a34086940",
   "metadata": {},
   "outputs": [],
   "source": [
    "# Campaign you want to use the model on\n",
    "campaign = 'LIAISE'\n",
    "INS = 'IMU1' # unconsequential if not MAESTRO (hard coded)\n",
    "bias_TS = True # Plot time series by flights\n",
    "Bias_overview = True # Plots mean biases by flight, explores the dependency of these biases"
   ]
  },
  {
   "cell_type": "code",
   "execution_count": 24,
   "id": "3eed50fb-481e-413f-92bb-bcb930915e0a",
   "metadata": {},
   "outputs": [
    {
     "name": "stdout",
     "output_type": "stream",
     "text": [
      "🔄 Processing data...\n"
     ]
    },
    {
     "name": "stderr",
     "output_type": "stream",
     "text": [
      "100%|█████████████████████████████████████████████████████████████████████████████████████████████████████████████████████████| 8/8 [01:05<00:00,  8.17s/it]\n"
     ]
    },
    {
     "data": {
      "image/png": "[encoded data removed]",
      "text/plain": [
       "<Figure size 576x504 with 2 Axes>"
      ]
     },
     "metadata": {
      "needs_background": "light"
     },
     "output_type": "display_data"
    }
   ],
   "source": [
    "def create_sequences(data, timesteps):\n",
    "    sequences = []\n",
    "    for i in range(len(data) - timesteps):\n",
    "        sequences.append(data[i : i + timesteps])  # Extract time window\n",
    "    return np.array(sequences)\n",
    "\n",
    "mean_bias_E = []\n",
    "std_bias_E = []\n",
    "version_dir = f'Bias_regression/{version}'\n",
    "for INS in ['IMU2']:\n",
    "    print(\"🔄 Processing data...\")\n",
    "    if not campaign == 'MAESTRO':\n",
    "        INS=''\n",
    "    segmentation_dir = f'{data_root}/Segmentation_default/{campaign}/{INS}'\n",
    "    raw_data_dir = f'{data_root}/Raw'\n",
    "    results = []\n",
    "    # make plot dir\n",
    "    plot_dir = f'../Plots/{version}/{model}/{campaign}{INS}'\n",
    "    os.makedirs(plot_dir ,exist_ok = True)\n",
    "    if not os.path.exists(segmentation_dir):\n",
    "        print(f\"Segmentation directory not found: {segmentation_dir}\")\n",
    "    \n",
    "    for fname in tqdm(os.listdir(segmentation_dir)):\n",
    "        if not fname.endswith('.yaml'):\n",
    "            continue\n",
    "        \n",
    "        flight_number = extract_flight_number(fname)\n",
    "        if flight_number is None:\n",
    "            continue\n",
    "        if flight_number < 200009 and campaign == 'EUREC4A': # Special condition for EUREC4A\n",
    "            print(f'Skipping bad EUREC4A flight {flight_number}')\n",
    "            continue\n",
    "        yaml_path = os.path.join(segmentation_dir, fname)\n",
    "    \n",
    "        # Match raw data folder\n",
    "        matching_raw_folder = [f for f in os.listdir(raw_data_dir)\n",
    "                               if os.path.isdir(os.path.join(raw_data_dir, f)) and campaign in f and INS in f]\n",
    "        \n",
    "        if not matching_raw_folder:\n",
    "            print(f\"❌ No raw folder found for {campaign} {INS}\")\n",
    "            continue\n",
    "    \n",
    "        raw_folder = os.path.join(data_root, 'Raw', matching_raw_folder[0])\n",
    "        # Look for any .nc file containing the flight number\n",
    "        flight_str = f'{flight_number:02d}'\n",
    "        nc_candidates = [f for f in os.listdir(raw_folder)\n",
    "                         if f.endswith('.nc') and flight_str in f]\n",
    "        \n",
    "        if not nc_candidates:\n",
    "            print(f\"❌ No matching .nc file found for flight {flight_number} in {raw_folder}\")\n",
    "            continue\n",
    "        \n",
    "        nc_path = os.path.join(raw_folder, nc_candidates[0])  # Use first match\n",
    "        df_raw = load_raw_data(nc_path)\n",
    "        \n",
    "        if 'GROUND_SPEED' in features:\n",
    "            df_raw['GROUND_SPEED'] = np.sqrt(df_raw['NORTH_SPEED']**2 + df_raw['EAST_SPEED']**2)\n",
    "    \n",
    "        # make df variables consistent\n",
    "        if 'SIDESLIP_RAD' in df_raw.columns:\n",
    "            df_raw['AOS_RAD'] = df_raw['SIDESLIP_RAD']\n",
    "        if 'ALTI_INS' in df_raw.columns:\n",
    "            df_raw['ALTITUDE'] = df_raw['ALTI_INS']\n",
    "            \n",
    "        # Data scaling\n",
    "        df_resampled = df_raw[features].dropna().resample(resampling).mean().dropna()\n",
    "        new_data_scaled = scaler.transform(df_resampled.values)\n",
    "        X_new = create_sequences(new_data_scaled, timesteps)\n",
    "        predictions = best_model.predict(X_new, verbose = None)\n",
    "        # Extracting biases\n",
    "        biases = scalery.inverse_transform(predictions)\n",
    "        n_features = len(features)\n",
    "        mean_bias_E.append([np.mean(biases[:, 0]),np.mean(biases[:, 1])])\n",
    "        std_bias_E.append([np.std(biases[:, 0]),np.std(biases[:, 1])])\n",
    "        \n",
    "        if bias_TS : \n",
    "            fig, axes = plt.subplots(3, 1, figsize=(14, 6))\n",
    "    \n",
    "            \n",
    "            axes[0].plot(df_resampled.index[timesteps :], biases, label=['aoa_b','aos_b'])\n",
    "            axes[0].set_xlabel(\"Time Step\")\n",
    "            axes[0].set_ylabel(\"Angle of Attack bias\")\n",
    "            axes[0].axhline(np.mean(biases[:, 0]), color='C0', linestyle='--', linewidth=1.5, label=f\"Average AoA bias\",alpha = 0.5)\n",
    "            axes[0].axhline(np.mean(biases[:, 1]), color='C1', linestyle='--', linewidth=1.5, label=f\"Average AoS bias\",alpha = 0.5)\n",
    "            axes[0].set_title(f\"Radome bias regression for {campaign} {INS} flight {flight_number}, \\n with regressor {version} {model}\")\n",
    "            axes[0].legend()\n",
    "    \n",
    "            # Second subplot for HEADING\n",
    "            axes[1].plot(df_raw.dropna()['HEADING'], label=\"Heading\")\n",
    "            axes[1].set_xlabel(\"Time Step\")\n",
    "            axes[1].set_ylabel(\"Heading\")\n",
    "            axes[1].legend()\n",
    "    \n",
    "            # Third subplot for ALTITUDE\n",
    "            axes[2].plot(df_raw.dropna()['ALTITUDE'], label=\"Altitude\")\n",
    "            axes[2].set_xlabel(\"Time Step\")\n",
    "            axes[2].set_ylabel(\"Altitude\")\n",
    "            axes[2].legend()\n",
    "            \n",
    "            axes[0].grid()\n",
    "            axes[1].grid()\n",
    "            axes[2].grid()\n",
    "            # Adjust layout for better spacing between subplots\n",
    "            plt.tight_layout()\n",
    "            # Save the figure with all subplots\n",
    "            plt.savefig(f'{plot_dir}/Flight{flight_number}_subplots.png')\n",
    "            plt.close()\n",
    "            \n",
    "    if Bias_overview:\n",
    "        fig, axes = plt.subplots(2, 1, figsize=(8, 7), sharex=True)\n",
    "        x = np.arange(0, len(mean_bias_E), 1)\n",
    "        # First subplot: Legs AOA\n",
    "        axes[0].errorbar(x, np.array(mean_bias_E)[:, 0], yerr=np.array(std_bias_E)[:, 0], \n",
    "                         fmt='o', color='blue', label='Std AOA', capsize=5)\n",
    "        axes[0].axhline(np.nanmean(np.array(mean_bias_E)[:, 0]), color='blue', linestyle='--', linewidth=1.5, label=f\"Mean AOA bias {np.nanmean(np.array(mean_bias_E)[:, 0]):.03f}°\")\n",
    "        axes[0].grid()\n",
    "        axes[0].set_ylabel(\"Bias\")\n",
    "        axes[0].legend()\n",
    "        axes[0].set_title(f\"Angle of attack biases for {campaign} {INS} flight, \\n with regressor {version} {model}\")\n",
    "        \n",
    "        # Second subplot: Legs AOS\n",
    "        axes[1].errorbar(x, np.array(mean_bias_E)[:, 1], yerr=np.array(std_bias_E)[:, 1], \n",
    "                         fmt='o', color='orange', label='Std AOS', capsize=5)\n",
    "        axes[1].axhline(np.nanmean(np.array(mean_bias_E)[:, 1]), color='orange', linestyle='--', linewidth=1.5, label=f\"Mean AOS bias {np.nanmean(np.array(mean_bias_E)[:, 1]):.03f}°\")\n",
    "        axes[1].grid()\n",
    "        axes[1].set_xlabel(\"Flight number\")\n",
    "        axes[1].set_ylabel(\"Bias\")\n",
    "        axes[1].legend()\n",
    "        axes[1].set_title(f\"Angle of sideslip biases for {campaign} {INS} flight, \\n with regressor {version} {model}\")\n",
    "        \n",
    "        # Adjust layout and show plot\n",
    "        plt.tight_layout()\n",
    "        plt.savefig(f'{plot_dir}/Bias_estimations_{model}_{campaign}{INS}.png', dpi=300)\n",
    "        plt.show()\n",
    "\n",
    "    if not campaign == 'MAESTRO':\n",
    "        break"
   ]
  },
  {
   "cell_type": "code",
   "execution_count": 22,
   "id": "e90df4c3-b209-4cc5-8421-63b7a6e68a3c",
   "metadata": {},
   "outputs": [
    {
     "data": {
      "text/plain": [
       "array([[ 0.06154005, -0.1979652 ],\n",
       "       [ 0.0983196 ,  0.13000652],\n",
       "       [ 0.08078172,  0.18835025],\n",
       "       [ 0.09757464,  0.30838802],\n",
       "       [ 0.1244017 ,  0.10263739],\n",
       "       [ 0.08864157,  0.10505999],\n",
       "       [ 0.10564395,  0.13806124]], dtype=float32)"
      ]
     },
     "execution_count": 22,
     "metadata": {},
     "output_type": "execute_result"
    }
   ],
   "source": [
    "np.array(mean_bias_E[4:])"
   ]
  },
  {
   "cell_type": "code",
   "execution_count": null,
   "id": "741c1c57-9f0c-4d51-abe9-3f521b419231",
   "metadata": {},
   "outputs": [],
   "source": []
  }
 ],
 "metadata": {
  "kernelspec": {
   "display_name": "Python 3 (ipykernel)",
   "language": "python",
   "name": "python3"
  },
  "language_info": {
   "codemirror_mode": {
    "name": "ipython",
    "version": 3
   },
   "file_extension": ".py",
   "mimetype": "text/x-python",
   "name": "python",
   "nbconvert_exporter": "python",
   "pygments_lexer": "ipython3",
   "version": "3.10.12"
  },
  "toc": {
   "base_numbering": 0
  }
 },
 "nbformat": 4,
 "nbformat_minor": 5
}
